{
 "cells": [
  {
   "cell_type": "code",
   "id": "initial_id",
   "metadata": {
    "collapsed": true,
    "ExecuteTime": {
     "end_time": "2025-01-06T09:57:28.295282Z",
     "start_time": "2025-01-06T09:57:28.276580Z"
    }
   },
   "source": [
    "from bandits import thompson_sampling\n",
    "\n",
    "import numpy as np\n",
    "import pandas as pd\n",
    "\n",
    "import matplotlib.pyplot as plt\n",
    "import seaborn as sns\n",
    "\n",
    "%matplotlib inline\n",
    "%config InlineBackend.figure_format = 'retina'"
   ],
   "outputs": [],
   "execution_count": 1
  },
  {
   "metadata": {},
   "cell_type": "code",
   "outputs": [],
   "execution_count": null,
   "source": "",
   "id": "51e5660eabbfb4b8"
  },
  {
   "metadata": {},
   "cell_type": "markdown",
   "source": "Data generation",
   "id": "65cd5894cc4cd253"
  },
  {
   "metadata": {
    "ExecuteTime": {
     "end_time": "2025-01-06T09:57:29.947151Z",
     "start_time": "2025-01-06T09:57:29.931369Z"
    }
   },
   "cell_type": "code",
   "source": [
    "np.random.seed(28)\n",
    "\n",
    "# Campaigns\n",
    "arms = np.random.randint(low=1, high=30, size=10)\n",
    "\n",
    "# CPM\n",
    "true_values = np.random.gamma(shape=2, scale=1/2, size=10)\n",
    "\n",
    "df = pd.DataFrame({'arms': arms, 'true_values': true_values})\n",
    "\n",
    "true_stats = df.set_index('arms')['true_values'].to_dict()\n",
    "\n",
    "display(df.sort_values('true_values', ascending=False))"
   ],
   "id": "5d49cccc1c979640",
   "outputs": [
    {
     "data": {
      "text/plain": [
       "   arms  true_values\n",
       "9     1     1.876118\n",
       "3    23     1.160400\n",
       "6     4     0.992980\n",
       "7    24     0.926695\n",
       "5     1     0.905357\n",
       "1    26     0.863821\n",
       "8    13     0.705905\n",
       "2     6     0.698796\n",
       "0     2     0.231195\n",
       "4    21     0.101644"
      ],
      "text/html": [
       "<div>\n",
       "<style scoped>\n",
       "    .dataframe tbody tr th:only-of-type {\n",
       "        vertical-align: middle;\n",
       "    }\n",
       "\n",
       "    .dataframe tbody tr th {\n",
       "        vertical-align: top;\n",
       "    }\n",
       "\n",
       "    .dataframe thead th {\n",
       "        text-align: right;\n",
       "    }\n",
       "</style>\n",
       "<table border=\"1\" class=\"dataframe\">\n",
       "  <thead>\n",
       "    <tr style=\"text-align: right;\">\n",
       "      <th></th>\n",
       "      <th>arms</th>\n",
       "      <th>true_values</th>\n",
       "    </tr>\n",
       "  </thead>\n",
       "  <tbody>\n",
       "    <tr>\n",
       "      <th>9</th>\n",
       "      <td>1</td>\n",
       "      <td>1.876118</td>\n",
       "    </tr>\n",
       "    <tr>\n",
       "      <th>3</th>\n",
       "      <td>23</td>\n",
       "      <td>1.160400</td>\n",
       "    </tr>\n",
       "    <tr>\n",
       "      <th>6</th>\n",
       "      <td>4</td>\n",
       "      <td>0.992980</td>\n",
       "    </tr>\n",
       "    <tr>\n",
       "      <th>7</th>\n",
       "      <td>24</td>\n",
       "      <td>0.926695</td>\n",
       "    </tr>\n",
       "    <tr>\n",
       "      <th>5</th>\n",
       "      <td>1</td>\n",
       "      <td>0.905357</td>\n",
       "    </tr>\n",
       "    <tr>\n",
       "      <th>1</th>\n",
       "      <td>26</td>\n",
       "      <td>0.863821</td>\n",
       "    </tr>\n",
       "    <tr>\n",
       "      <th>8</th>\n",
       "      <td>13</td>\n",
       "      <td>0.705905</td>\n",
       "    </tr>\n",
       "    <tr>\n",
       "      <th>2</th>\n",
       "      <td>6</td>\n",
       "      <td>0.698796</td>\n",
       "    </tr>\n",
       "    <tr>\n",
       "      <th>0</th>\n",
       "      <td>2</td>\n",
       "      <td>0.231195</td>\n",
       "    </tr>\n",
       "    <tr>\n",
       "      <th>4</th>\n",
       "      <td>21</td>\n",
       "      <td>0.101644</td>\n",
       "    </tr>\n",
       "  </tbody>\n",
       "</table>\n",
       "</div>"
      ]
     },
     "metadata": {},
     "output_type": "display_data"
    }
   ],
   "execution_count": 2
  },
  {
   "metadata": {},
   "cell_type": "code",
   "outputs": [],
   "execution_count": null,
   "source": "",
   "id": "4e52599c165c64f7"
  },
  {
   "metadata": {},
   "cell_type": "markdown",
   "source": "Initialize a Normal-Inverse-Gamma (NIG) distribution for Thompson Sampling",
   "id": "539d6adf2d4f681f"
  },
  {
   "metadata": {
    "ExecuteTime": {
     "end_time": "2025-01-06T10:06:53.168888Z",
     "start_time": "2025-01-06T10:06:53.134309Z"
    }
   },
   "cell_type": "code",
   "source": "NIG = thompson_sampling.normal_inverse_gamma(arms_info=true_stats, rounds=20_000, discount_factor=1)",
   "id": "4e7b601cda1aa584",
   "outputs": [],
   "execution_count": 6
  },
  {
   "metadata": {
    "ExecuteTime": {
     "end_time": "2025-01-06T10:08:39.634236Z",
     "start_time": "2025-01-06T10:06:53.705440Z"
    }
   },
   "cell_type": "code",
   "source": "NIG.fit()",
   "id": "5b10a887f0e93529",
   "outputs": [
    {
     "name": "stderr",
     "output_type": "stream",
     "text": [
      "100%|██████████| 20000/20000 [01:45<00:00, 188.83it/s]\n"
     ]
    }
   ],
   "execution_count": 7
  },
  {
   "metadata": {},
   "cell_type": "code",
   "outputs": [],
   "execution_count": null,
   "source": "",
   "id": "7346b2d065781fff"
  },
  {
   "metadata": {},
   "cell_type": "markdown",
   "source": "Output of results",
   "id": "8d7df39d947fcd0c"
  },
  {
   "metadata": {
    "ExecuteTime": {
     "end_time": "2025-01-06T10:09:14.911100Z",
     "start_time": "2025-01-06T10:09:14.902765Z"
    }
   },
   "cell_type": "code",
   "source": "NIG.result",
   "id": "5711683df56c6622",
   "outputs": [
    {
     "data": {
      "text/plain": [
       "   arm  traffic        cpm  percentage\n",
       "0    1    19856   1.869784       99.28\n",
       "6   23       54   1.083684        0.27\n",
       "2    4       19   1.267368        0.10\n",
       "7   24       21   1.225652        0.10\n",
       "8   26       16  13.817762        0.08\n",
       "3    6       12   1.000764        0.06\n",
       "4   13       11   4.210876        0.06\n",
       "1    2        6   4.098521        0.03\n",
       "5   21        5   4.159212        0.02"
      ],
      "text/html": [
       "<div>\n",
       "<style scoped>\n",
       "    .dataframe tbody tr th:only-of-type {\n",
       "        vertical-align: middle;\n",
       "    }\n",
       "\n",
       "    .dataframe tbody tr th {\n",
       "        vertical-align: top;\n",
       "    }\n",
       "\n",
       "    .dataframe thead th {\n",
       "        text-align: right;\n",
       "    }\n",
       "</style>\n",
       "<table border=\"1\" class=\"dataframe\">\n",
       "  <thead>\n",
       "    <tr style=\"text-align: right;\">\n",
       "      <th></th>\n",
       "      <th>arm</th>\n",
       "      <th>traffic</th>\n",
       "      <th>cpm</th>\n",
       "      <th>percentage</th>\n",
       "    </tr>\n",
       "  </thead>\n",
       "  <tbody>\n",
       "    <tr>\n",
       "      <th>0</th>\n",
       "      <td>1</td>\n",
       "      <td>19856</td>\n",
       "      <td>1.869784</td>\n",
       "      <td>99.28</td>\n",
       "    </tr>\n",
       "    <tr>\n",
       "      <th>6</th>\n",
       "      <td>23</td>\n",
       "      <td>54</td>\n",
       "      <td>1.083684</td>\n",
       "      <td>0.27</td>\n",
       "    </tr>\n",
       "    <tr>\n",
       "      <th>2</th>\n",
       "      <td>4</td>\n",
       "      <td>19</td>\n",
       "      <td>1.267368</td>\n",
       "      <td>0.10</td>\n",
       "    </tr>\n",
       "    <tr>\n",
       "      <th>7</th>\n",
       "      <td>24</td>\n",
       "      <td>21</td>\n",
       "      <td>1.225652</td>\n",
       "      <td>0.10</td>\n",
       "    </tr>\n",
       "    <tr>\n",
       "      <th>8</th>\n",
       "      <td>26</td>\n",
       "      <td>16</td>\n",
       "      <td>13.817762</td>\n",
       "      <td>0.08</td>\n",
       "    </tr>\n",
       "    <tr>\n",
       "      <th>3</th>\n",
       "      <td>6</td>\n",
       "      <td>12</td>\n",
       "      <td>1.000764</td>\n",
       "      <td>0.06</td>\n",
       "    </tr>\n",
       "    <tr>\n",
       "      <th>4</th>\n",
       "      <td>13</td>\n",
       "      <td>11</td>\n",
       "      <td>4.210876</td>\n",
       "      <td>0.06</td>\n",
       "    </tr>\n",
       "    <tr>\n",
       "      <th>1</th>\n",
       "      <td>2</td>\n",
       "      <td>6</td>\n",
       "      <td>4.098521</td>\n",
       "      <td>0.03</td>\n",
       "    </tr>\n",
       "    <tr>\n",
       "      <th>5</th>\n",
       "      <td>21</td>\n",
       "      <td>5</td>\n",
       "      <td>4.159212</td>\n",
       "      <td>0.02</td>\n",
       "    </tr>\n",
       "  </tbody>\n",
       "</table>\n",
       "</div>"
      ]
     },
     "execution_count": 8,
     "metadata": {},
     "output_type": "execute_result"
    }
   ],
   "execution_count": 8
  },
  {
   "metadata": {},
   "cell_type": "code",
   "outputs": [],
   "execution_count": null,
   "source": "",
   "id": "71c3578f51baddf0"
  },
  {
   "metadata": {},
   "cell_type": "code",
   "outputs": [],
   "execution_count": null,
   "source": "",
   "id": "db16a7ff96aaa897"
  },
  {
   "metadata": {},
   "cell_type": "code",
   "outputs": [],
   "execution_count": null,
   "source": "",
   "id": "d2a269bafb727791"
  },
  {
   "metadata": {},
   "cell_type": "code",
   "outputs": [],
   "execution_count": null,
   "source": "",
   "id": "73fffcc0051577d3"
  },
  {
   "metadata": {},
   "cell_type": "code",
   "outputs": [],
   "execution_count": null,
   "source": "",
   "id": "b4391406717ed86b"
  },
  {
   "metadata": {},
   "cell_type": "code",
   "outputs": [],
   "execution_count": null,
   "source": "",
   "id": "5d4c19e970b12541"
  },
  {
   "metadata": {},
   "cell_type": "code",
   "outputs": [],
   "execution_count": null,
   "source": "",
   "id": "15a00a0cba877788"
  },
  {
   "metadata": {},
   "cell_type": "code",
   "outputs": [],
   "execution_count": null,
   "source": "",
   "id": "e07179a431be3c19"
  },
  {
   "metadata": {},
   "cell_type": "code",
   "outputs": [],
   "execution_count": null,
   "source": "",
   "id": "ae780b4c9949b85a"
  }
 ],
 "metadata": {
  "kernelspec": {
   "display_name": "Python 3",
   "language": "python",
   "name": "python3"
  },
  "language_info": {
   "codemirror_mode": {
    "name": "ipython",
    "version": 2
   },
   "file_extension": ".py",
   "mimetype": "text/x-python",
   "name": "python",
   "nbconvert_exporter": "python",
   "pygments_lexer": "ipython2",
   "version": "2.7.6"
  }
 },
 "nbformat": 4,
 "nbformat_minor": 5
}
